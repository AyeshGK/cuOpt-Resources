{
 "cells": [
  {
   "cell_type": "code",
   "execution_count": 1,
   "id": "b2cba47f",
   "metadata": {},
   "outputs": [],
   "source": [
    "from cuopt import routing\n",
    "import cudf\n",
    "import pandas as pd\n",
    "import notebook_utils.notebook_helpers as helper_map"
   ]
  },
  {
   "cell_type": "markdown",
   "id": "371f38f1",
   "metadata": {},
   "source": [
    "# Service Team Routing\n",
    "## Capacitated Vehicle Routing Problem with Time Windows (CVRPTW)"
   ]
  },
  {
   "cell_type": "markdown",
   "id": "25e90f86",
   "metadata": {},
   "source": [
    "The ability of service providers to set service time windows allows for easier and more dependable coordination between the service provider and their customers, while increasing overall customer satisfaction.\n",
    "\n",
    "In this scenario we have a number of service order locations with associated time windows and service times (time on-site to complete service). Each technician has an associated availability, ability to complete certain types of service, and a maximum number of service appointments per day."
   ]
  },
  {
   "cell_type": "markdown",
   "id": "63093d54",
   "metadata": {},
   "source": [
    "### Problem Details:\n",
    "- 8 Locations each with an associated demand\n",
    "    - 1 Headquarters \n",
    "        - service type 1 demand: [0]\n",
    "        - service type 2 demand: [1]\n",
    "        - headquarters hours of operation: [5,20]\n",
    "    - 7 Service Locations\n",
    "        - service type 1 demand: [1, 1, 1, 0, 0, 0, 0]\n",
    "        - service type 2 demand: [0, 0, 1, 1, 1, 1, 1]\n",
    "        - service locations time windows: [[9,12],[9,12],[11,14],[13,16],[13,16],[13,16],[13,16]]\n",
    "        - service location service times: [ 1, 1, 1.5, 0.5, 0.5, 0.5]\n",
    "\n",
    "- 3 Delivery vehicles each with an associated capacity\n",
    "    - 3 service technicians\n",
    "        - capacity for service type 1: [2, 1, 0]\n",
    "        - capacity for service type 2: [0, 1, 4]\n",
    "        - technician availability [[9,17], [12,15], [9,17]]\n"
   ]
  },
  {
   "cell_type": "markdown",
   "id": "baeeee39",
   "metadata": {},
   "source": [
    "Below we visualize the service locations with respect to the service company headquarters. The cost from all locations to all other locations (a cost matrix) will be required for optimization. To see an example of cost matrix generation from map data or a waypoint graph, refer to the [cost_matrix_creation.ipynb](cost_matrix_creation.ipynb) notebook.  For the purpose of this simple example we will omit the cost matrix calculation."
   ]
  },
  {
   "cell_type": "code",
   "execution_count": 2,
   "id": "c8a0847d",
   "metadata": {},
   "outputs": [
    {
     "data": {
      "image/png": "[encoded data removed]",
      "text/plain": [
       "<Figure size 720x720 with 1 Axes>"
      ]
     },
     "metadata": {
      "needs_background": "light"
     },
     "output_type": "display_data"
    }
   ],
   "source": [
    "location_names       = [ \"Headquarters\",     \"A\",    \"B\",    \"C\",    \"D\",    \"E\",    \"F\",    \"G\"  ]\n",
    "location_coordinates = [     [4, 4],        [1, 3], [8, 1], [2, 1], [6, 7], [0, 2], [7, 6], [5, 3] ]\n",
    "location_coordinates_df = pd.DataFrame(location_coordinates, columns=['xcord', 'ycord'], index=location_names)\n",
    "helper_map.gen_plot(location_coordinates_df).show()"
   ]
  },
  {
   "cell_type": "markdown",
   "id": "ff1d68f2",
   "metadata": {},
   "source": [
    "### Cost Matrix"
   ]
  },
  {
   "cell_type": "markdown",
   "id": "210a57e9",
   "metadata": {},
   "source": [
    "The cost matrix dictates the cost of travel between locations of interest.  The cost itself can be anything relevant to the user.  In this case we are constraining time window constraints.  When constraining time windows for locations or vehicles it is assumed (if only a single cost matrix is provided) that it represents time. \n",
    "\n",
    "Here is the cost(time) matrix corresponding to the locations above:"
   ]
  },
  {
   "cell_type": "code",
   "execution_count": 3,
   "id": "1054c7e3",
   "metadata": {
    "scrolled": true
   },
   "outputs": [
    {
     "data": {
      "text/html": [
       "<div>\n",
       "<style scoped>\n",
       "    .dataframe tbody tr th:only-of-type {\n",
       "        vertical-align: middle;\n",
       "    }\n",
       "\n",
       "    .dataframe tbody tr th {\n",
       "        vertical-align: top;\n",
       "    }\n",
       "\n",
       "    .dataframe thead th {\n",
       "        text-align: right;\n",
       "    }\n",
       "</style>\n",
       "<table border=\"1\" class=\"dataframe\">\n",
       "  <thead>\n",
       "    <tr style=\"text-align: right;\">\n",
       "      <th></th>\n",
       "      <th>Headquarters</th>\n",
       "      <th>A</th>\n",
       "      <th>B</th>\n",
       "      <th>C</th>\n",
       "      <th>D</th>\n",
       "      <th>E</th>\n",
       "      <th>F</th>\n",
       "      <th>G</th>\n",
       "    </tr>\n",
       "  </thead>\n",
       "  <tbody>\n",
       "    <tr>\n",
       "      <th>Headquarters</th>\n",
       "      <td>0.00</td>\n",
       "      <td>0.31</td>\n",
       "      <td>0.50</td>\n",
       "      <td>0.36</td>\n",
       "      <td>0.36</td>\n",
       "      <td>0.44</td>\n",
       "      <td>0.36</td>\n",
       "      <td>0.14</td>\n",
       "    </tr>\n",
       "    <tr>\n",
       "      <th>A</th>\n",
       "      <td>0.31</td>\n",
       "      <td>0.00</td>\n",
       "      <td>0.72</td>\n",
       "      <td>0.22</td>\n",
       "      <td>0.64</td>\n",
       "      <td>0.14</td>\n",
       "      <td>0.67</td>\n",
       "      <td>0.40</td>\n",
       "    </tr>\n",
       "    <tr>\n",
       "      <th>B</th>\n",
       "      <td>0.50</td>\n",
       "      <td>0.72</td>\n",
       "      <td>0.00</td>\n",
       "      <td>0.60</td>\n",
       "      <td>0.63</td>\n",
       "      <td>0.80</td>\n",
       "      <td>0.51</td>\n",
       "      <td>0.36</td>\n",
       "    </tr>\n",
       "    <tr>\n",
       "      <th>C</th>\n",
       "      <td>0.36</td>\n",
       "      <td>0.22</td>\n",
       "      <td>0.60</td>\n",
       "      <td>0.00</td>\n",
       "      <td>0.72</td>\n",
       "      <td>0.22</td>\n",
       "      <td>0.70</td>\n",
       "      <td>0.36</td>\n",
       "    </tr>\n",
       "    <tr>\n",
       "      <th>D</th>\n",
       "      <td>0.36</td>\n",
       "      <td>0.64</td>\n",
       "      <td>0.63</td>\n",
       "      <td>0.72</td>\n",
       "      <td>0.00</td>\n",
       "      <td>0.77</td>\n",
       "      <td>0.14</td>\n",
       "      <td>0.41</td>\n",
       "    </tr>\n",
       "    <tr>\n",
       "      <th>E</th>\n",
       "      <td>0.44</td>\n",
       "      <td>0.14</td>\n",
       "      <td>0.80</td>\n",
       "      <td>0.22</td>\n",
       "      <td>0.77</td>\n",
       "      <td>0.00</td>\n",
       "      <td>0.80</td>\n",
       "      <td>0.51</td>\n",
       "    </tr>\n",
       "    <tr>\n",
       "      <th>F</th>\n",
       "      <td>0.36</td>\n",
       "      <td>0.67</td>\n",
       "      <td>0.51</td>\n",
       "      <td>0.70</td>\n",
       "      <td>0.14</td>\n",
       "      <td>0.80</td>\n",
       "      <td>0.00</td>\n",
       "      <td>0.36</td>\n",
       "    </tr>\n",
       "    <tr>\n",
       "      <th>G</th>\n",
       "      <td>0.14</td>\n",
       "      <td>0.40</td>\n",
       "      <td>0.36</td>\n",
       "      <td>0.36</td>\n",
       "      <td>0.41</td>\n",
       "      <td>0.51</td>\n",
       "      <td>0.36</td>\n",
       "      <td>0.00</td>\n",
       "    </tr>\n",
       "  </tbody>\n",
       "</table>\n",
       "</div>"
      ],
      "text/plain": [
       "              Headquarters     A     B     C     D     E     F     G\n",
       "Headquarters          0.00  0.31  0.50  0.36  0.36  0.44  0.36  0.14\n",
       "A                     0.31  0.00  0.72  0.22  0.64  0.14  0.67  0.40\n",
       "B                     0.50  0.72  0.00  0.60  0.63  0.80  0.51  0.36\n",
       "C                     0.36  0.22  0.60  0.00  0.72  0.22  0.70  0.36\n",
       "D                     0.36  0.64  0.63  0.72  0.00  0.77  0.14  0.41\n",
       "E                     0.44  0.14  0.80  0.22  0.77  0.00  0.80  0.51\n",
       "F                     0.36  0.67  0.51  0.70  0.14  0.80  0.00  0.36\n",
       "G                     0.14  0.40  0.36  0.36  0.41  0.51  0.36  0.00"
      ]
     },
     "execution_count": 3,
     "metadata": {},
     "output_type": "execute_result"
    }
   ],
   "source": [
    "time_matrix = [\n",
    " [0.00, 0.31, 0.50, 0.36, 0.36, 0.44, 0.36, 0.14],\n",
    " [0.31, 0.00, 0.72, 0.22, 0.64, 0.14, 0.67, 0.40],\n",
    " [0.50, 0.72, 0.00, 0.60, 0.63, 0.80, 0.51, 0.36],\n",
    " [0.36, 0.22, 0.60, 0.00, 0.72, 0.22, 0.70, 0.36],\n",
    " [0.36, 0.64, 0.63, 0.72, 0.00, 0.77, 0.14, 0.41],\n",
    " [0.44, 0.14, 0.80, 0.22, 0.77, 0.00, 0.80, 0.51],\n",
    " [0.36, 0.67, 0.51, 0.70, 0.14, 0.80, 0.00, 0.36],\n",
    " [0.14, 0.40, 0.36, 0.36, 0.41, 0.51, 0.36, 0.00]\n",
    "]\n",
    "\n",
    "# Create a dataframe of this matrix\n",
    "time_matrix  = cudf.DataFrame(time_matrix, \n",
    "                              index=location_coordinates_df.index, \n",
    "                              columns=location_coordinates_df.index)\n",
    "time_matrix"
   ]
  },
  {
   "cell_type": "markdown",
   "id": "3397b254",
   "metadata": {},
   "source": [
    "### Service Locations"
   ]
  },
  {
   "cell_type": "markdown",
   "id": "ce7b7af7",
   "metadata": {},
   "source": [
    "Setup the service location data"
   ]
  },
  {
   "cell_type": "code",
   "execution_count": 4,
   "id": "dc98afdf",
   "metadata": {
    "scrolled": true
   },
   "outputs": [
    {
     "data": {
      "text/html": [
       "<div>\n",
       "<style scoped>\n",
       "    .dataframe tbody tr th:only-of-type {\n",
       "        vertical-align: middle;\n",
       "    }\n",
       "\n",
       "    .dataframe tbody tr th {\n",
       "        vertical-align: top;\n",
       "    }\n",
       "\n",
       "    .dataframe thead th {\n",
       "        text-align: right;\n",
       "    }\n",
       "</style>\n",
       "<table border=\"1\" class=\"dataframe\">\n",
       "  <thead>\n",
       "    <tr style=\"text-align: right;\">\n",
       "      <th></th>\n",
       "      <th>service_type1_demand</th>\n",
       "      <th>service_type2_demand</th>\n",
       "      <th>location_earliest_time</th>\n",
       "      <th>location_latest_time</th>\n",
       "      <th>required_service_time</th>\n",
       "    </tr>\n",
       "    <tr>\n",
       "      <th>location_ids</th>\n",
       "      <th></th>\n",
       "      <th></th>\n",
       "      <th></th>\n",
       "      <th></th>\n",
       "      <th></th>\n",
       "    </tr>\n",
       "  </thead>\n",
       "  <tbody>\n",
       "    <tr>\n",
       "      <th>Headquarters</th>\n",
       "      <td>0</td>\n",
       "      <td>0</td>\n",
       "      <td>5</td>\n",
       "      <td>20</td>\n",
       "      <td>0.0</td>\n",
       "    </tr>\n",
       "    <tr>\n",
       "      <th>A</th>\n",
       "      <td>1</td>\n",
       "      <td>0</td>\n",
       "      <td>9</td>\n",
       "      <td>12</td>\n",
       "      <td>1.0</td>\n",
       "    </tr>\n",
       "    <tr>\n",
       "      <th>B</th>\n",
       "      <td>1</td>\n",
       "      <td>0</td>\n",
       "      <td>9</td>\n",
       "      <td>12</td>\n",
       "      <td>1.0</td>\n",
       "    </tr>\n",
       "    <tr>\n",
       "      <th>C</th>\n",
       "      <td>1</td>\n",
       "      <td>1</td>\n",
       "      <td>11</td>\n",
       "      <td>14</td>\n",
       "      <td>1.5</td>\n",
       "    </tr>\n",
       "    <tr>\n",
       "      <th>D</th>\n",
       "      <td>0</td>\n",
       "      <td>1</td>\n",
       "      <td>13</td>\n",
       "      <td>16</td>\n",
       "      <td>0.5</td>\n",
       "    </tr>\n",
       "    <tr>\n",
       "      <th>E</th>\n",
       "      <td>0</td>\n",
       "      <td>1</td>\n",
       "      <td>13</td>\n",
       "      <td>16</td>\n",
       "      <td>0.5</td>\n",
       "    </tr>\n",
       "    <tr>\n",
       "      <th>F</th>\n",
       "      <td>0</td>\n",
       "      <td>1</td>\n",
       "      <td>13</td>\n",
       "      <td>16</td>\n",
       "      <td>0.5</td>\n",
       "    </tr>\n",
       "    <tr>\n",
       "      <th>G</th>\n",
       "      <td>0</td>\n",
       "      <td>1</td>\n",
       "      <td>13</td>\n",
       "      <td>16</td>\n",
       "      <td>0.5</td>\n",
       "    </tr>\n",
       "  </tbody>\n",
       "</table>\n",
       "</div>"
      ],
      "text/plain": [
       "              service_type1_demand  service_type2_demand  \\\n",
       "location_ids                                               \n",
       "Headquarters                     0                     0   \n",
       "A                                1                     0   \n",
       "B                                1                     0   \n",
       "C                                1                     1   \n",
       "D                                0                     1   \n",
       "E                                0                     1   \n",
       "F                                0                     1   \n",
       "G                                0                     1   \n",
       "\n",
       "              location_earliest_time  location_latest_time  \\\n",
       "location_ids                                                 \n",
       "Headquarters                       5                    20   \n",
       "A                                  9                    12   \n",
       "B                                  9                    12   \n",
       "C                                 11                    14   \n",
       "D                                 13                    16   \n",
       "E                                 13                    16   \n",
       "F                                 13                    16   \n",
       "G                                 13                    16   \n",
       "\n",
       "              required_service_time  \n",
       "location_ids                         \n",
       "Headquarters                    0.0  \n",
       "A                               1.0  \n",
       "B                               1.0  \n",
       "C                               1.5  \n",
       "D                               0.5  \n",
       "E                               0.5  \n",
       "F                               0.5  \n",
       "G                               0.5  "
      ]
     },
     "execution_count": 4,
     "metadata": {},
     "output_type": "execute_result"
    }
   ],
   "source": [
    "service_location_data = {\n",
    "    \"location_ids\": location_names,\n",
    "    \"service_type1_demand\": [0, 1, 1, 1, 0, 0, 0, 0],\n",
    "    \"service_type2_demand\": [0, 0, 0, 1, 1, 1, 1, 1],\n",
    "    \"location_earliest_time\": [5, 9, 9, 11, 13, 13, 13, 13],\n",
    "    \"location_latest_time\": [20, 12, 12, 14, 16, 16, 16,16],\n",
    "    \"required_service_time\": [0, 1, 1, 1.5, 0.5, 0.5, 0.5, 0.5]\n",
    "}\n",
    "service_location_data = cudf.DataFrame(service_location_data).set_index('location_ids')\n",
    "service_location_data"
   ]
  },
  {
   "cell_type": "markdown",
   "id": "cd27971f",
   "metadata": {},
   "source": [
    "### Vehicles"
   ]
  },
  {
   "cell_type": "markdown",
   "id": "d66df281",
   "metadata": {},
   "source": [
    "Setup vehicle/technician data"
   ]
  },
  {
   "cell_type": "code",
   "execution_count": 5,
   "id": "248e1add",
   "metadata": {
    "scrolled": true
   },
   "outputs": [
    {
     "data": {
      "text/html": [
       "<div>\n",
       "<style scoped>\n",
       "    .dataframe tbody tr th:only-of-type {\n",
       "        vertical-align: middle;\n",
       "    }\n",
       "\n",
       "    .dataframe tbody tr th {\n",
       "        vertical-align: top;\n",
       "    }\n",
       "\n",
       "    .dataframe thead th {\n",
       "        text-align: right;\n",
       "    }\n",
       "</style>\n",
       "<table border=\"1\" class=\"dataframe\">\n",
       "  <thead>\n",
       "    <tr style=\"text-align: right;\">\n",
       "      <th></th>\n",
       "      <th>capacity_service_type1</th>\n",
       "      <th>capacity_service_type2</th>\n",
       "      <th>vehicle_availability_earliest</th>\n",
       "      <th>vehicle_availability_latest</th>\n",
       "    </tr>\n",
       "    <tr>\n",
       "      <th>vehicle_ids</th>\n",
       "      <th></th>\n",
       "      <th></th>\n",
       "      <th></th>\n",
       "      <th></th>\n",
       "    </tr>\n",
       "  </thead>\n",
       "  <tbody>\n",
       "    <tr>\n",
       "      <th>0</th>\n",
       "      <td>2</td>\n",
       "      <td>0</td>\n",
       "      <td>9</td>\n",
       "      <td>17</td>\n",
       "    </tr>\n",
       "    <tr>\n",
       "      <th>1</th>\n",
       "      <td>1</td>\n",
       "      <td>1</td>\n",
       "      <td>11</td>\n",
       "      <td>15</td>\n",
       "    </tr>\n",
       "    <tr>\n",
       "      <th>2</th>\n",
       "      <td>0</td>\n",
       "      <td>4</td>\n",
       "      <td>9</td>\n",
       "      <td>17</td>\n",
       "    </tr>\n",
       "  </tbody>\n",
       "</table>\n",
       "</div>"
      ],
      "text/plain": [
       "             capacity_service_type1  capacity_service_type2  \\\n",
       "vehicle_ids                                                   \n",
       "0                                 2                       0   \n",
       "1                                 1                       1   \n",
       "2                                 0                       4   \n",
       "\n",
       "             vehicle_availability_earliest  vehicle_availability_latest  \n",
       "vehicle_ids                                                              \n",
       "0                                        9                           17  \n",
       "1                                       11                           15  \n",
       "2                                        9                           17  "
      ]
     },
     "execution_count": 5,
     "metadata": {},
     "output_type": "execute_result"
    }
   ],
   "source": [
    "n_vehicles = 3\n",
    "vehicle_data = {\n",
    "    \"vehicle_ids\": [i for i in range(n_vehicles)],\n",
    "    \"capacity_service_type1\":[2, 1, 0],\n",
    "    \"capacity_service_type2\":[0, 1, 4],\n",
    "    \"vehicle_availability_earliest\":[9, 11, 9],\n",
    "    \"vehicle_availability_latest\":[17, 15, 17]\n",
    "}\n",
    "vehicle_data = cudf.DataFrame(vehicle_data).set_index('vehicle_ids')\n",
    "vehicle_data"
   ]
  },
  {
   "cell_type": "markdown",
   "id": "8c70e5b3",
   "metadata": {},
   "source": [
    "### cuOpt DataModel View"
   ]
  },
  {
   "cell_type": "markdown",
   "id": "96c89955",
   "metadata": {},
   "source": [
    "Setup the routing.DataModel."
   ]
  },
  {
   "cell_type": "code",
   "execution_count": 6,
   "id": "2b28f01c",
   "metadata": {},
   "outputs": [],
   "source": [
    "n_locations = len(service_location_data)\n",
    "n_vehicles = len(vehicle_data)\n",
    "\n",
    "data_model = routing.DataModel(n_locations, n_vehicles)\n",
    "\n",
    "# set the cost matrix\n",
    "data_model.add_cost_matrix(time_matrix)\n",
    "\n",
    "# add a capacity dimension for service type 1\n",
    "data_model.add_capacity_dimension(\n",
    "    \"service_type1\",\n",
    "    cudf.Series(service_location_data[\"service_type1_demand\"]),\n",
    "    cudf.Series(vehicle_data[\"capacity_service_type1\"])\n",
    ")\n",
    "# add a capacity dimension for service type 2\n",
    "data_model.add_capacity_dimension(\n",
    "    \"service_type2\",\n",
    "    cudf.Series(service_location_data[\"service_type2_demand\"]),\n",
    "    cudf.Series(vehicle_data[\"capacity_service_type2\"])\n",
    ")\n",
    "\n",
    "# add time windows and service time for the locations\n",
    "data_model.set_order_time_windows(\n",
    "    service_location_data[\"location_earliest_time\"],\n",
    "    service_location_data[\"location_latest_time\"], \n",
    "    service_location_data[\"required_service_time\"]\n",
    ")\n",
    "\n",
    "# add time windows for vehicle availability\n",
    "data_model.set_vehicle_time_windows(\n",
    "    vehicle_data[\"vehicle_availability_earliest\"], \n",
    "    vehicle_data[\"vehicle_availability_latest\"]\n",
    ")"
   ]
  },
  {
   "cell_type": "markdown",
   "id": "be4c7654",
   "metadata": {},
   "source": [
    "### CuOpt SolverSettings"
   ]
  },
  {
   "cell_type": "markdown",
   "id": "a5c8ffc8",
   "metadata": {},
   "source": [
    "Setup routing.SolverSettings."
   ]
  },
  {
   "cell_type": "code",
   "execution_count": 7,
   "id": "fd528c7e",
   "metadata": {},
   "outputs": [],
   "source": [
    "solver_settings = routing.SolverSettings()\n",
    "\n",
    "# set number of climbers that will try to search for an optimal routes in parallel\n",
    "solver_settings.set_number_of_climbers(128)\n",
    "\n",
    "# solver_settings will run for given time limit.  Larger and/or more complex problems may require more time.\n",
    "solver_settings.set_time_limit(0.05)"
   ]
  },
  {
   "cell_type": "markdown",
   "id": "c1994f6a",
   "metadata": {},
   "source": [
    "### Solution"
   ]
  },
  {
   "cell_type": "code",
   "execution_count": 8,
   "id": "d243bdef",
   "metadata": {},
   "outputs": [
    {
     "name": "stdout",
     "output_type": "stream",
     "text": [
      "Cost for the routing in time:  4.059999942779541\n",
      "Vehicle count to complete routing:  3\n",
      "For vehicle - 0 route is: \n",
      "\n",
      "Headquarters->A->B->Headquarters\n",
      "\n",
      "\n",
      "For vehicle - 1 route is: \n",
      "\n",
      "Headquarters->C->Headquarters\n",
      "\n",
      "\n",
      "For vehicle - 2 route is: \n",
      "\n",
      "Headquarters->E->G->F->D->Headquarters\n",
      "\n",
      "\n"
     ]
    }
   ],
   "source": [
    "routing_solution = routing.Solve(data_model, solver_settings)\n",
    "if routing_solution.get_status() == 0:\n",
    "    print(\"Cost for the routing in time: \", routing_solution.final_cost)\n",
    "    print(\"Vehicle count to complete routing: \", routing_solution.vehicle_count)\n",
    "    helper_map.show_vehicle_routes(routing_solution.route, location_names)\n",
    "    routing_solution.route\n",
    "else:\n",
    "    print(\"NVIDIA cuOpt Failed to find a solution with status : \", routing_solution.get_status())"
   ]
  },
  {
   "cell_type": "markdown",
   "id": "68b89b87",
   "metadata": {},
   "source": [
    "**Notice** that this solution leverages the fact that vehicle 1 is the only vehicle with the ability to perform both service type 1 and service type 2.  In addition, vehicle 0 and vehicle 2 also serve the locations they are suited to service and minimize the time taken along these routes."
   ]
  },
  {
   "cell_type": "code",
   "execution_count": 9,
   "id": "617cdd8e",
   "metadata": {},
   "outputs": [
    {
     "data": {
      "image/png": "[encoded data removed]",
      "text/plain": [
       "<Figure size 720x720 with 1 Axes>"
      ]
     },
     "metadata": {
      "needs_background": "light"
     },
     "output_type": "display_data"
    }
   ],
   "source": [
    "vehicle_colors = [\"red\", \"green\", \"blue\"]\n",
    "helper_map.map_vehicle_routes(location_coordinates_df, routing_solution.route, vehicle_colors).show()"
   ]
  },
  {
   "cell_type": "code",
   "execution_count": 10,
   "id": "ff30f074",
   "metadata": {},
   "outputs": [],
   "source": [
    "# routing_solution.route"
   ]
  },
  {
   "cell_type": "markdown",
   "id": "ebfc9536",
   "metadata": {},
   "source": [
    "_____\n",
    "\n",
    "####  SPDX-FileCopyrightText: Copyright (c) 2022 NVIDIA CORPORATION & AFFILIATES. All rights reserved.\n",
    "####  SPDX-License-Identifier: MIT\n",
    "\n",
    "Permission is hereby granted, free of charge, to any person obtaining a\n",
    "copy of this software and associated documentation files (the \"Software\"),\n",
    "to deal in the Software without restriction, including without limitation\n",
    "the rights to use, copy, modify, merge, publish, distribute, sublicense,\n",
    "and/or sell copies of the Software, and to permit persons to whom the\n",
    "Software is furnished to do so, subject to the following conditions:\n",
    "The above copyright notice and this permission notice shall be included in\n",
    "all copies or substantial portions of the Software.\n",
    "\n",
    "THE SOFTWARE IS PROVIDED \"AS IS\", WITHOUT WARRANTY OF ANY KIND, EXPRESS OR\n",
    "IMPLIED, INCLUDING BUT NOT LIMITED TO THE WARRANTIES OF MERCHANTABILITY,\n",
    "FITNESS FOR A PARTICULAR PURPOSE AND NONINFRINGEMENT. IN NO EVENT SHALL\n",
    "THE AUTHORS OR COPYRIGHT HOLDERS BE LIABLE FOR ANY CLAIM, DAMAGES OR OTHER\n",
    "LIABILITY, WHETHER IN AN ACTION OF CONTRACT, TORT OR OTHERWISE, ARISING\n",
    "FROM, OUT OF OR IN CONNECTION WITH THE SOFTWARE OR THE USE OR OTHER\n",
    "DEALINGS IN THE SOFTWARE.\n",
    "\n",
    "---"
   ]
  }
 ],
 "metadata": {
  "kernelspec": {
   "display_name": "Python 3 (ipykernel)",
   "language": "python",
   "name": "python3"
  },
  "language_info": {
   "codemirror_mode": {
    "name": "ipython",
    "version": 3
   },
   "file_extension": ".py",
   "mimetype": "text/x-python",
   "name": "python",
   "nbconvert_exporter": "python",
   "pygments_lexer": "ipython3",
   "version": "3.8.13"
  }
 },
 "nbformat": 4,
 "nbformat_minor": 5
}
